{
 "cells": [
  {
   "cell_type": "code",
   "execution_count": 1,
   "metadata": {},
   "outputs": [],
   "source": [
    "import numpy as np\n",
    "import seaborn as sns\n",
    "import matplotlib.pyplot as plt\n",
    "import os\n",
    "import random\n",
    "import tqdm"
   ]
  },
  {
   "cell_type": "code",
   "execution_count": 2,
   "metadata": {},
   "outputs": [],
   "source": [
    "path = os.path.dirname(os.getcwd())\n",
    "data_path=os.path.join(path,\"data\",\"example1.dat\")"
   ]
  },
  {
   "cell_type": "code",
   "execution_count": 3,
   "metadata": {},
   "outputs": [],
   "source": [
    "def getA(filename:str):\n",
    "    edges=[]\n",
    "    with open(filename,\"r\") as file:\n",
    "        for line in file:\n",
    "            edge=list(map(lambda x:int(x),line.split(\",\")))\n",
    "            edges.append(edge)\n",
    "    edges=np.array(edges)\n",
    "    A=np.zeros((np.max(edges),np.max(edges)))\n",
    "    for e in range(edges.shape[0]):\n",
    "        A[edges[e][0]-1][edges[e][1]-1]=1\n",
    "    return A\n"
   ]
  },
  {
   "cell_type": "code",
   "execution_count": 4,
   "metadata": {},
   "outputs": [],
   "source": [
    "k=2\n",
    "A=getA(data_path)\n",
    "\n",
    "D=np.diag(np.sum(A,axis=0)**-0.5)\n",
    "L=D@A@D\n",
    "eVal,eVec=np.linalg.eig(L)\n",
    "\n",
    "indices=np.argsort(eVal)[::-1]\n",
    "X=eVec[:,indices[:k]]\n",
    "Y=X/(np.sum(X**2,axis=1,keepdims=True)**0.5+1e-8)\n",
    "\n"
   ]
  },
  {
   "cell_type": "code",
   "execution_count": 5,
   "metadata": {},
   "outputs": [],
   "source": [
    "def getdis(A:np.array,B:np.array):\n",
    "    return np.sqrt(np.sum((B-A)**2))"
   ]
  },
  {
   "cell_type": "code",
   "execution_count": 10,
   "metadata": {},
   "outputs": [
    {
     "name": "stdout",
     "output_type": "stream",
     "text": [
      "[2, 2, 2, 2, 2, 2, 2, 2, 2, 2, 2, 2, 2, 2, 2, 2, 2, 2, 2, 2, 2, 2, 2, 2, 2, 2, 2, 2, 2, 2, 2, 2, 2, 2, 2, 2, 2, 2, 2, 2, 2, 2, 2, 2, 2, 2, 2, 2, 2, 2, 2, 2, 2, 2, 2, 2, 2, 2, 2, 2, 2, 2, 2, 2, 2, 2, 2, 2, 2, 2, 2, 2, 2, 2, 2, 2, 2, 2, 2, 2, 2, 2, 2, 2, 2, 2, 2, 2, 2, 2, 2, 2, 2, 2, 2, 2, 2, 2, 2, 2, 2, 2, 2, 2, 2, 2, 2, 2, 2, 2, 2, 2, 2, 2, 2, 2, 2, 2, 2, 2, 2, 2, 2, 2, 2, 2, 2, 2, 2, 2, 2, 2, 2, 2, 2, 2, 2, 2, 2, 2, 2, 2, 2, 2, 2, 2, 2, 2, 2, 2, 2, 2, 2, 2, 2, 2, 2, 2, 2, 2, 2, 2, 2, 2, 2, 2, 2, 2, 2, 2, 2, 2, 2, 2, 2, 2, 2, 2, 2, 2, 2, 2, 2, 2, 2, 2, 2, 2, 2, 2, 2, 2, 2, 2, 2, 2, 2, 2, 2, 2, 2, 2, 2, 2, 2, 2, 0, 0, 0, 0, 0, 0, 0, 0, 0, 0, 0, 0, 0, 0, 0, 0, 0, 0, 0, 0, 0, 0, 0, 0, 0, 0, 0, 0, 0, 0, 0, 0, 0, 0, 0]\n"
     ]
    }
   ],
   "source": [
    "K=3\n",
    "M=Y[np.random.choice(np.arange(Y.shape[0]),size=K,replace=False)]\n",
    "clusters=[-1 for _ in range(Y.shape[0])]\n",
    "oldC=clusters.copy()\n",
    "clus=[[]for _ in range(K)]\n",
    "flag=True\n",
    "while(flag):\n",
    "    flag=False\n",
    "    for i in range(Y.shape[0]):\n",
    "        dis=float(\"inf\")\n",
    "        for j in range(M.shape[0]):\n",
    "            if getdis(Y[i],M[j])<dis:\n",
    "                dis=getdis(Y[i],M[j])\n",
    "                clusters[i]=j\n",
    "        if clusters[i]!=oldC[i]:\n",
    "            flag=True\n",
    "        clus[clusters[i]].append(Y[i])\n",
    "    oldC=clusters.copy()\n",
    "    for i,clu in enumerate(clus):\n",
    "        clu=np.array(clu)\n",
    "        N=clu.shape[0]\n",
    "        if N==0:\n",
    "            continue\n",
    "        else:\n",
    "            M[i]=np.sum(clu)/N\n",
    "    clus=[[]for _ in range(K)]\n",
    "print(clusters)\n"
   ]
  }
 ],
 "metadata": {
  "kernelspec": {
   "display_name": "DM",
   "language": "python",
   "name": "python3"
  },
  "language_info": {
   "codemirror_mode": {
    "name": "ipython",
    "version": 3
   },
   "file_extension": ".py",
   "mimetype": "text/x-python",
   "name": "python",
   "nbconvert_exporter": "python",
   "pygments_lexer": "ipython3",
   "version": "3.9.0"
  }
 },
 "nbformat": 4,
 "nbformat_minor": 2
}
